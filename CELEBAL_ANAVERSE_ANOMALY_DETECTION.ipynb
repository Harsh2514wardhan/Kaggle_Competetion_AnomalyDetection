{
 "cells": [
  {
   "cell_type": "code",
   "execution_count": 1,
   "id": "1272e09f",
   "metadata": {},
   "outputs": [
    {
     "name": "stdout",
     "output_type": "stream",
     "text": [
      "Requirement already satisfied: pyarrow in c:\\users\\harsh\\anaconda3\\lib\\site-packages (19.0.1)\n"
     ]
    }
   ],
   "source": [
    "!pip install pyarrow"
   ]
  },
  {
   "cell_type": "code",
   "execution_count": 2,
   "id": "c37c076f",
   "metadata": {},
   "outputs": [],
   "source": [
    "import pandas as pd\n",
    "\n",
    "train = pd.read_parquet('train.parquet')\n",
    "test = pd.read_parquet('test.parquet')\n",
    "sample = pd.read_parquet('sample_submission.parquet')\n",
    "\n",
    "train.to_csv('train.csv', index=False)\n",
    "test.to_csv('test.csv', index=False)\n",
    "sample.to_csv('sample_submission.csv', index=False)"
   ]
  },
  {
   "cell_type": "code",
   "execution_count": 4,
   "id": "19d615d0",
   "metadata": {},
   "outputs": [],
   "source": [
    "import pandas as pd\n",
    "import seaborn as sns\n",
    "import matplotlib.pyplot as plt\n",
    "\n",
    "# Load data\n",
    "train = pd.read_csv(\"train.csv\", parse_dates=[\"Date\"])\n",
    "test = pd.read_csv(\"test.csv\", parse_dates=[\"Date\"])\n",
    "sample = pd.read_csv(\"sample_submission.csv\")"
   ]
  },
  {
   "cell_type": "code",
   "execution_count": 5,
   "id": "dcb85d88",
   "metadata": {},
   "outputs": [
    {
     "name": "stdout",
     "output_type": "stream",
     "text": [
      "Requirement already satisfied: numpy in c:\\users\\harsh\\anaconda3\\lib\\site-packages (1.26.4)\n"
     ]
    }
   ],
   "source": [
    "!pip install numpy\n"
   ]
  },
  {
   "cell_type": "code",
   "execution_count": 6,
   "id": "a5462d89",
   "metadata": {},
   "outputs": [],
   "source": [
    "import numpy as np"
   ]
  },
  {
   "cell_type": "code",
   "execution_count": 7,
   "id": "17209a3e",
   "metadata": {},
   "outputs": [
    {
     "name": "stdout",
     "output_type": "stream",
     "text": [
      "X1        0\n",
      "X2        0\n",
      "X3        0\n",
      "X4        0\n",
      "X5        0\n",
      "target    0\n",
      "hour      0\n",
      "dtype: int64\n"
     ]
    }
   ],
   "source": [
    "train[\"hour\"] = train[\"Date\"].dt.hour\n",
    "test[\"hour\"] = test[\"Date\"].dt.hour\n",
    "\n",
    "# Drop datetime if not using\n",
    "train = train.drop(columns=[\"Date\"])\n",
    "test = test.drop(columns=[\"Date\"])\n",
    "\n",
    "# Check missing values\n",
    "print(train.isnull().sum())\n",
    "\n",
    "# Features and target\n",
    "X = train.drop(\"target\", axis=1)\n",
    "y = train[\"target\"]"
   ]
  },
  {
   "cell_type": "code",
   "execution_count": 8,
   "id": "1f12af0a",
   "metadata": {},
   "outputs": [],
   "source": [
    "from sklearn.model_selection import train_test_split\n",
    "\n",
    "X_train, X_val, y_train, y_val = train_test_split(X, y, test_size=0.2, stratify=y, random_state=42)"
   ]
  },
  {
   "cell_type": "code",
   "execution_count": 9,
   "id": "227014dc",
   "metadata": {},
   "outputs": [
    {
     "name": "stdout",
     "output_type": "stream",
     "text": [
      "F1 Score: 0.60947122531323\n",
      "Accuracy: 0.9943913262271833\n",
      "              precision    recall  f1-score   support\n",
      "\n",
      "           0       1.00      1.00      1.00    325077\n",
      "           1       0.75      0.51      0.61      2808\n",
      "\n",
      "    accuracy                           0.99    327885\n",
      "   macro avg       0.88      0.75      0.80    327885\n",
      "weighted avg       0.99      0.99      0.99    327885\n",
      "\n"
     ]
    }
   ],
   "source": [
    "from sklearn.ensemble import RandomForestClassifier\n",
    "from sklearn.metrics import f1_score, accuracy_score, classification_report\n",
    "\n",
    "rf = RandomForestClassifier(n_estimators=100, random_state=42)\n",
    "rf.fit(X_train, y_train)\n",
    "y_pred = rf.predict(X_val)\n",
    "\n",
    "print(\"F1 Score:\", f1_score(y_val, y_pred))\n",
    "print(\"Accuracy:\", accuracy_score(y_val, y_pred))\n",
    "print(classification_report(y_val, y_pred))"
   ]
  },
  {
   "cell_type": "code",
   "execution_count": 20,
   "id": "8d1d4137",
   "metadata": {},
   "outputs": [
    {
     "name": "stdout",
     "output_type": "stream",
     "text": [
      "Requirement already satisfied: xgboost in c:\\users\\harsh\\anaconda3\\lib\\site-packages (2.1.4)\n",
      "Requirement already satisfied: numpy in c:\\users\\harsh\\anaconda3\\lib\\site-packages (from xgboost) (1.22.4)\n",
      "Requirement already satisfied: scipy in c:\\users\\harsh\\anaconda3\\lib\\site-packages (from xgboost) (1.7.3)\n"
     ]
    }
   ],
   "source": [
    "!pip install xgboost"
   ]
  },
  {
   "cell_type": "code",
   "execution_count": 18,
   "id": "d2213934",
   "metadata": {},
   "outputs": [
    {
     "name": "stdout",
     "output_type": "stream",
     "text": [
      "XGBoost F1: 0.6139197460893221\n"
     ]
    }
   ],
   "source": [
    "from xgboost import XGBClassifier\n",
    "\n",
    "xgb = XGBClassifier(eval_metric=\"logloss\")\n",
    "xgb.fit(X_train, y_train)\n",
    "y_pred_xgb = xgb.predict(X_val)\n",
    "\n",
    "print(\"XGBoost F1:\", f1_score(y_val, y_pred_xgb))"
   ]
  },
  {
   "cell_type": "code",
   "execution_count": 22,
   "id": "80131597",
   "metadata": {},
   "outputs": [
    {
     "name": "stdout",
     "output_type": "stream",
     "text": [
      "✅ XGBoost Evaluation:\n",
      "Accuracy: 0.9948061057992894\n",
      "F1 Score: 0.6139197460893221\n",
      "              precision    recall  f1-score   support\n",
      "\n",
      "           0       1.00      1.00      1.00    325077\n",
      "           1       0.84      0.48      0.61      2808\n",
      "\n",
      "    accuracy                           0.99    327885\n",
      "   macro avg       0.92      0.74      0.81    327885\n",
      "weighted avg       0.99      0.99      0.99    327885\n",
      "\n"
     ]
    }
   ],
   "source": [
    "from xgboost import XGBClassifier\n",
    "from sklearn.metrics import accuracy_score, f1_score, classification_report\n",
    "\n",
    "# Initialize model\n",
    "xgb = XGBClassifier(eval_metric='logloss', random_state=42)\n",
    "\n",
    "# Fit on training data\n",
    "xgb.fit(X_train, y_train)\n",
    "\n",
    "# Predict on validation data\n",
    "y_pred = xgb.predict(X_val)\n",
    "\n",
    "# Evaluate\n",
    "print(\"✅ XGBoost Evaluation:\")\n",
    "print(\"Accuracy:\", accuracy_score(y_val, y_pred))\n",
    "print(\"F1 Score:\", f1_score(y_val, y_pred))\n",
    "print(classification_report(y_val, y_pred))"
   ]
  },
  {
   "cell_type": "code",
   "execution_count": 27,
   "id": "302f53ec",
   "metadata": {},
   "outputs": [],
   "source": [
    "test_fixed = test.drop(columns=[\"ID\"])\n",
    "\n",
    "# Predict\n",
    "test_preds = xgb.predict(test_fixed)"
   ]
  },
  {
   "cell_type": "code",
   "execution_count": 30,
   "id": "4922a269",
   "metadata": {},
   "outputs": [],
   "source": [
    "import pandas as pd\n",
    "\n",
    "# Load the sample submission file\n",
    "sample_submission = pd.read_parquet(\"sample_submission.parquet\")"
   ]
  },
  {
   "cell_type": "code",
   "execution_count": 32,
   "id": "52c078d7",
   "metadata": {},
   "outputs": [
    {
     "name": "stdout",
     "output_type": "stream",
     "text": [
      "✅ Fixed submission.csv created with correct shape!\n"
     ]
    }
   ],
   "source": [
    "submission = pd.DataFrame({\n",
    "    \"ID\": test[\"ID\"],             # Use IDs from test set\n",
    "    \"target\": test_preds          # Your predictions\n",
    "})\n",
    "\n",
    "submission.to_csv(\"submission.csv\", index=False)\n",
    "print(\"✅ Fixed submission.csv created with correct shape!\")"
   ]
  },
  {
   "cell_type": "code",
   "execution_count": 33,
   "id": "21d65dc0",
   "metadata": {},
   "outputs": [
    {
     "data": {
      "image/png": "[encoded data removed]",
      "text/plain": [
       "<Figure size 576x432 with 2 Axes>"
      ]
     },
     "metadata": {
      "needs_background": "light"
     },
     "output_type": "display_data"
    }
   ],
   "source": [
    "plt.figure(figsize=(8, 6))\n",
    "sns.heatmap(train.corr(), annot=True, cmap='coolwarm')\n",
    "plt.title(\"Feature Correlation\")\n",
    "plt.show()"
   ]
  },
  {
   "cell_type": "code",
   "execution_count": 34,
   "id": "0da21be7",
   "metadata": {},
   "outputs": [
    {
     "name": "stdout",
     "output_type": "stream",
     "text": [
      "📁 Current notebook directory: C:\\Users\\harsh\n"
     ]
    }
   ],
   "source": [
    "import os\n",
    "print(\"📁 Current notebook directory:\", os.getcwd())"
   ]
  },
  {
   "cell_type": "code",
   "execution_count": 35,
   "id": "664743b6",
   "metadata": {},
   "outputs": [
    {
     "name": "stdout",
     "output_type": "stream",
     "text": [
      "   ID  target\n",
      "0   0       0\n",
      "1   1       0\n",
      "2   2       0\n",
      "3   3       0\n",
      "4   4       0\n",
      "\n",
      "Total rows: 409856\n",
      "\n",
      "Prediction distribution:\n",
      "target\n",
      "0    407871\n",
      "1      1985\n",
      "Name: count, dtype: int64\n"
     ]
    }
   ],
   "source": [
    "\n",
    "# Load your submission\n",
    "submission = pd.read_csv(\"submission.csv\")\n",
    "\n",
    "# Preview first few rows\n",
    "print(submission.head())\n",
    "\n",
    "# Check if it has the right number of predictions\n",
    "print(f\"\\nTotal rows: {len(submission)}\")\n",
    "\n",
    "# Check how many 0s and 1s were predicted\n",
    "print(\"\\nPrediction distribution:\")\n",
    "print(submission[\"target\"].value_counts())"
   ]
  },
  {
   "cell_type": "code",
   "execution_count": 36,
   "id": "65b3cc93",
   "metadata": {},
   "outputs": [],
   "source": [
    "for col in [\"X1\", \"X2\", \"X3\", \"X4\", \"X5\"]:\n",
    "    train[f\"{col}_z\"] = (train[col] - train[col].mean()) / train[col].std()\n",
    "    test[f\"{col}_z\"] = (test[col] - train[col].mean()) / train[col].std()"
   ]
  },
  {
   "cell_type": "code",
   "execution_count": 42,
   "id": "72280493",
   "metadata": {},
   "outputs": [],
   "source": [
    "from sklearn.model_selection import StratifiedKFold\n",
    "\n",
    "kf = StratifiedKFold(n_splits=5)\n",
    "for train_idx, valid_idx in kf.split(X, y):\n",
    "    ..."
   ]
  },
  {
   "cell_type": "code",
   "execution_count": 45,
   "id": "d390037e",
   "metadata": {},
   "outputs": [
    {
     "name": "stdout",
     "output_type": "stream",
     "text": [
      "✅ Fixed submission.csv created with correct shape!\n"
     ]
    }
   ],
   "source": [
    "submission = pd.DataFrame({\n",
    "    \"ID\": test[\"ID\"],             # Use IDs from test set\n",
    "    \"target\": test_preds          # Your predictions\n",
    "})\n",
    "\n",
    "submission.to_csv(\"submission.csv\", index=False)\n",
    "print(\"✅ Fixed submission.csv created with correct shape!\")"
   ]
  }
 ],
 "metadata": {
  "kernelspec": {
   "display_name": "Python 3 (ipykernel)",
   "language": "python",
   "name": "python3"
  },
  "language_info": {
   "codemirror_mode": {
    "name": "ipython",
    "version": 3
   },
   "file_extension": ".py",
   "mimetype": "text/x-python",
   "name": "python",
   "nbconvert_exporter": "python",
   "pygments_lexer": "ipython3",
   "version": "3.9.12"
  }
 },
 "nbformat": 4,
 "nbformat_minor": 5
}
